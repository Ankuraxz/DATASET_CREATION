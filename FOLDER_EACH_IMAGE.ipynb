{
 "cells": [
  {
   "cell_type": "code",
   "execution_count": 16,
   "metadata": {},
   "outputs": [],
   "source": [
    "import os\n",
    "import cv2\n",
    "import glob\n",
    "import numpy as np\n",
    "import matplotlib.pyplot as plt\n",
    "%matplotlib inline"
   ]
  },
  {
   "cell_type": "code",
   "execution_count": 17,
   "metadata": {},
   "outputs": [
    {
     "name": "stdout",
     "output_type": "stream",
     "text": [
      "Requirement already satisfied: glob2 in /home/ankit/.local/lib/python3.8/site-packages (0.7)\n"
     ]
    }
   ],
   "source": [
    "!pip3 install glob2"
   ]
  },
  {
   "cell_type": "code",
   "execution_count": 18,
   "metadata": {},
   "outputs": [],
   "source": [
    "path=\"./IMAGES\""
   ]
  },
  {
   "cell_type": "code",
   "execution_count": 19,
   "metadata": {},
   "outputs": [
    {
     "name": "stdout",
     "output_type": "stream",
     "text": [
      "5\n",
      "['2.jpg', '5.jpg', '3.jpg', '1.jpg', '4.jpg']\n"
     ]
    }
   ],
   "source": [
    "images=[]\n",
    "for ix in os.listdir(path):\n",
    "    images.append(ix)\n",
    "print(len(images))\n",
    "print(images)"
   ]
  },
  {
   "cell_type": "code",
   "execution_count": 39,
   "metadata": {},
   "outputs": [],
   "source": [
    "images.sort()\n",
    "os.mkdir(\"/home/ankit/Documents/Model/Images3\")\n",
    "dir_to_save=\"/home/ankit/Documents/Model/Images3\"\n",
    "for image in os.listdir(path):\n",
    "    try:\n",
    "        fol_name=image[:-4]\n",
    "        path_new=os.path.join(dir_to_save,fol_name)\n",
    "        os.mkdir(path_new)\n",
    "        img = cv2.imread(image)\n",
    "        path_to_save = os.path.join(path_new,image)\n",
    "        plt.imsave(path_to_save , img)\n",
    "    except:\n",
    "        pass"
   ]
  },
  {
   "cell_type": "code",
   "execution_count": null,
   "metadata": {},
   "outputs": [],
   "source": []
  }
 ],
 "metadata": {
  "kernelspec": {
   "display_name": "Python 3",
   "language": "python",
   "name": "python3"
  },
  "language_info": {
   "codemirror_mode": {
    "name": "ipython",
    "version": 3
   },
   "file_extension": ".py",
   "mimetype": "text/x-python",
   "name": "python",
   "nbconvert_exporter": "python",
   "pygments_lexer": "ipython3",
   "version": "3.8.2"
  }
 },
 "nbformat": 4,
 "nbformat_minor": 4
}
